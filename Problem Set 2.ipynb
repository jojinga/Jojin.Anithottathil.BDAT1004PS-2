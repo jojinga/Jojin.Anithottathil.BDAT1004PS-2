{
 "cells": [
  {
   "cell_type": "markdown",
   "id": "10aa17e3",
   "metadata": {},
   "source": [
    "# PROBLEM SET 2 "
   ]
  },
  {
   "cell_type": "markdown",
   "id": "8a082622",
   "metadata": {},
   "source": [
    "# QUESTION 1\n",
    "\n",
    "Consider the following Python module:\n",
    "a = 0\n",
    "def b():\n",
    " global a\n",
    " a = c(a)\n",
    "def c(a):\n",
    " return a + 2\n",
    "After importing the module into the interpreter, you execute:\n",
    "b()\n",
    "b()\n",
    "b()\n",
    "a?\n",
    "What value is displayed when the last expression (a) is evaluated? Explain your\n",
    "answer by indicating what happens in every executed statement."
   ]
  },
  {
   "cell_type": "code",
   "execution_count": 186,
   "id": "f5ec186b",
   "metadata": {},
   "outputs": [
    {
     "data": {
      "text/plain": [
       "6"
      ]
     },
     "execution_count": 186,
     "metadata": {},
     "output_type": "execute_result"
    }
   ],
   "source": [
    "a = 0 #variable initialized\n",
    "\n",
    "def b(): #function b() definition\n",
    "    global a #global variable initialized - converting local t global\n",
    "    a = c(a) # calling the function c() to provide the value of a\n",
    "    \n",
    "def c(a): #defning a function c()\n",
    "    return a+2 #the function c() returns a value of a+2 each time it is called\n",
    "\n",
    "b() \n",
    "b() \n",
    "b() #function call done thrice\n",
    "\n",
    "#during each function call, time value of 'a' was increased by 2\n",
    "\n",
    "a #value of a is printed here"
   ]
  },
  {
   "cell_type": "markdown",
   "id": "944eb79b",
   "metadata": {},
   "source": [
    "# QUESTION 2\n",
    "\n",
    "Function fileLength(), given to you, takes the name of a file as input and returns\n",
    "the length of the file:\n",
    "fileLength('midterm.py')\n",
    "284\n",
    " fileLength('idterm.py')\n",
    "Traceback (most recent call last):\n",
    "File \"<pyshell#34>\", line 1, in module\n",
    " fileLength('idterm.py')\n",
    "File \"/Users/me/midterm.py\", line 3, in fileLength\n",
    " infile = open(filename)\n",
    "FileNotFoundError: [Errno 2] No such file or directory:\n",
    "'idterm.py'\n",
    "As shown above, if the file cannot be found by the interpreter or if it cannot be read\n",
    "as a text file, an exception will be raised. Modify function fileLength() so that a\n",
    "friendly message is printed instead:\n",
    "fileLength('midterm.py')\n",
    "358\n",
    "fileLength('idterm.py')\n",
    "File idterm.py not found."
   ]
  },
  {
   "cell_type": "code",
   "execution_count": 187,
   "id": "45f96145",
   "metadata": {},
   "outputs": [],
   "source": [
    "def fileLength(file_name): # defining a function fileLength() \n",
    "        file = open(file_name) #opens the file to read contents\n",
    "        contents = file.read() #reads the content of the file\n",
    "        file.close() #closes the file\n",
    "        print(len(contents))\n",
    "    except FileNotFoundError as file_error_customized: #Throws an exception for the error\n",
    "        print('File {} not found'.format(file_name))  # Customized error printing"
   ]
  },
  {
   "cell_type": "code",
   "execution_count": 188,
   "id": "7384813f",
   "metadata": {},
   "outputs": [
    {
     "name": "stdout",
     "output_type": "stream",
     "text": [
      "124\n"
     ]
    }
   ],
   "source": [
    "fileLength('Midterm.py')"
   ]
  },
  {
   "cell_type": "code",
   "execution_count": 189,
   "id": "93b35be5",
   "metadata": {},
   "outputs": [
    {
     "name": "stdout",
     "output_type": "stream",
     "text": [
      "File idterm.py not found\n"
     ]
    }
   ],
   "source": [
    "fileLength('idterm.py')"
   ]
  },
  {
   "cell_type": "markdown",
   "id": "49d8847f",
   "metadata": {},
   "source": [
    "# QUESTION 3\n",
    "\n",
    "Write a class named Marsupial that can be used as shown below:\n",
    "m = Marsupial()\n",
    "m.put_in_pouch('doll')\n",
    "m.put_in_pouch('firetruck')\n",
    "m.put_in_pouch('kitten')\n",
    "m.pouch_contents()\n",
    "['doll', 'firetruck', 'kitten']\n",
    " BDAT 1004 – Data Programming\n",
    "Page 3 of 7\n",
    "F2021\n",
    "BDAT 1004 Computer Studies\n",
    "Now write a class named Kangaroo as a subclass of Marsupial that inherits all the\n",
    "attributes of Marsupial and also:\n",
    "a. extends the Marsupial __init__ constructor to take, as input, the\n",
    "coordinates x and y of the Kangaroo object,\n",
    "b. supports method jump that takes number values dx and dy as input and\n",
    "moves the kangaroo by dx units along the x-axis and by dy units along the yaxis, and\n",
    "c. overloads the __str__ operator so it behaves as shown below.\n",
    "k = Kangaroo(0,0)\n",
    "print(k)\n",
    "I am a Kangaroo located at coordinates (0,0)\n",
    "k.put_in_pouch('doll')\n",
    "k.put_in_pouch('firetruck')\n",
    "k.put_in_pouch('kitten')\n",
    "k.pouch_contents()\n",
    "['doll', 'firetruck', 'kitten']\n",
    "k.jump(1,0)\n",
    "k.jump(1,0)\n",
    "k.jump(1,0)\n",
    "print(k)\n",
    "I am a Kangaroo located at coordinates (3,0)\n"
   ]
  },
  {
   "cell_type": "code",
   "execution_count": 190,
   "id": "7a9463c8",
   "metadata": {},
   "outputs": [
    {
     "data": {
      "text/plain": [
       "['doll', 'firetruck', 'kitten']"
      ]
     },
     "execution_count": 190,
     "metadata": {},
     "output_type": "execute_result"
    }
   ],
   "source": [
    "class Marsupial: # Marsupial class is created\n",
    "    List = [] #list initialized \n",
    "    \n",
    "    def put_in_pouch(self,content): #function put_in_pouch to add contents to the list\n",
    "       self.List.append(content) #the content are appended to the list\n",
    "        \n",
    "        \n",
    "    def pouch_contents(self): #defining a fucntion Pouch_contents to print the list\n",
    "        return m.List\n",
    "\n",
    "m = Marsupial() #class object defined\n",
    "#now the function call follows\n",
    "m.put_in_pouch(\"doll\") \n",
    "m.put_in_pouch(\"firetruck\")\n",
    "m.put_in_pouch(\"kitten\")\n",
    "m.pouch_contents() "
   ]
  },
  {
   "cell_type": "code",
   "execution_count": 191,
   "id": "bcddd82c",
   "metadata": {},
   "outputs": [
    {
     "name": "stdout",
     "output_type": "stream",
     "text": [
      "I am a Kangaroo located at coordinates (0, 0)\n",
      "I am a Kangaroo located at coordinates (3, 0)\n"
     ]
    }
   ],
   "source": [
    "class Kangaroo(Marsupial):    #Kangaroo class created\n",
    "    \n",
    "    def __init__(self,x1,y1): #constructor \n",
    "        self.x = x1\n",
    "        self.y = y1\n",
    "        \n",
    "        Marsupial.__init__(self) #constructor calling\n",
    "    \n",
    "    \n",
    "    def jump(self,x1,y1): #define a parameterized constructor\n",
    "        self.x = self.x + x1\n",
    "        self.y = self.y + y1\n",
    "        \n",
    "    def __str__(self): #define a default constructor\n",
    "        return 'I am a Kangaroo located at coordinates ({}, {})'.format(self.x, self.y)\n",
    "    \n",
    "\n",
    "    \n",
    "k = Kangaroo(0,0)\n",
    "print (k)\n",
    "\n",
    "k.put_in_pouch('doll')\n",
    "k.put_in_pouch('firetruck')\n",
    "k.put_in_pouch('kitten')\n",
    "k.pouch_contents()\n",
    "\n",
    "k.jump(1,0)\n",
    "k.jump(1,0)\n",
    "k.jump(1,0)\n",
    "print(k)\n"
   ]
  },
  {
   "cell_type": "markdown",
   "id": "9db8866a",
   "metadata": {},
   "source": [
    "# QUESTION 4\n",
    "Write function collatz() that takes a positive integer x as input and prints the\n",
    "Collatz sequence starting at x. A Collatz sequence is obtained by repeatedly applying\n",
    "this rule to the previous number x in the sequence:\n",
    "x = {\n",
    "𝑥/2 𝑖𝑓 𝑥 𝑖𝑠 𝑒𝑣𝑒𝑛\n",
    "3𝑥 + 1 𝑖𝑓 𝑥 𝑖𝑠 𝑜𝑑𝑑\n",
    "Your function should stop when the sequence gets to number 1. Your\n",
    "implementation must be recursive, without any loops.\n",
    "collatz(1)\n",
    "1\n",
    "collatz(10)\n",
    "10\n",
    "5\n",
    "16\n",
    "8\n",
    "4\n",
    "2\n",
    "1"
   ]
  },
  {
   "cell_type": "code",
   "execution_count": 2,
   "id": "78df7e64",
   "metadata": {},
   "outputs": [],
   "source": [
    "def collatz(x): #function collatz()defined\n",
    "    if(x == 1):\n",
    "        print(1)\n",
    "        return\n",
    "    print(int(x))\n",
    "    \n",
    "    if(x % 2 == 0):\n",
    "        x = x / 2\n",
    "    else:\n",
    "        x = x * 3 + 1\n",
    "        \n",
    "    return (collatz(x))\n"
   ]
  },
  {
   "cell_type": "code",
   "execution_count": 5,
   "id": "230b051d",
   "metadata": {},
   "outputs": [
    {
     "name": "stdout",
     "output_type": "stream",
     "text": [
      "1\n"
     ]
    }
   ],
   "source": [
    "collatz(1)"
   ]
  },
  {
   "cell_type": "code",
   "execution_count": 4,
   "id": "a0a58e24",
   "metadata": {},
   "outputs": [
    {
     "name": "stdout",
     "output_type": "stream",
     "text": [
      "10\n",
      "5\n",
      "16\n",
      "8\n",
      "4\n",
      "2\n",
      "1\n"
     ]
    }
   ],
   "source": [
    "\n",
    "collatz(10)\n"
   ]
  },
  {
   "cell_type": "markdown",
   "id": "2ef2bb57",
   "metadata": {},
   "source": [
    "# QUESTION 5\n",
    "Write a recursive method binary() that takes a non-negative\n",
    "integer n and prints the binary representation of integer n.\n",
    " binary(0)\n",
    "0\n",
    " binary(1)\n",
    "1\n",
    " binary(3)\n",
    "11\n",
    "binary(9)\n",
    "1001\n"
   ]
  },
  {
   "cell_type": "code",
   "execution_count": 6,
   "id": "301010f6",
   "metadata": {},
   "outputs": [],
   "source": [
    "def binary(a):\n",
    "    if a > 1:\n",
    "        binary(a // 2) \n",
    "    print( a % 2, end=\"\")"
   ]
  },
  {
   "cell_type": "code",
   "execution_count": 196,
   "id": "a3472d3b",
   "metadata": {},
   "outputs": [
    {
     "name": "stdout",
     "output_type": "stream",
     "text": [
      "0"
     ]
    }
   ],
   "source": [
    "binary(0)\n"
   ]
  },
  {
   "cell_type": "code",
   "execution_count": 197,
   "id": "8aa2839d",
   "metadata": {},
   "outputs": [
    {
     "name": "stdout",
     "output_type": "stream",
     "text": [
      "1"
     ]
    }
   ],
   "source": [
    "binary(1)\n"
   ]
  },
  {
   "cell_type": "code",
   "execution_count": 198,
   "id": "b828d586",
   "metadata": {},
   "outputs": [
    {
     "name": "stdout",
     "output_type": "stream",
     "text": [
      "11"
     ]
    }
   ],
   "source": [
    "binary(3)"
   ]
  },
  {
   "cell_type": "code",
   "execution_count": 199,
   "id": "6edcd9a4",
   "metadata": {},
   "outputs": [
    {
     "name": "stdout",
     "output_type": "stream",
     "text": [
      "1001"
     ]
    }
   ],
   "source": [
    "binary(9)"
   ]
  },
  {
   "cell_type": "markdown",
   "id": "9bc472e9",
   "metadata": {},
   "source": [
    "# QUESTION 6\n",
    "Implement a class named HeadingParser that can be used to parse an HTML\n",
    "document, and retrieve and print all the headings in the document. You should\n",
    "implement your class as a subclass of HTMLParser, defined in Standard Library\n",
    "module html.parser. When fed a string containing HTML code, your class should\n",
    "print the headings, one per line and in the order in which they appear in the\n",
    "document. Each heading should be indented as follows: an h1 heading should have \n",
    "indentation 0, and h2 heading should have indentation 1, etc. Test your\n",
    "implementation using w3c.html.\n",
    "infile = open('w3c.html')\n",
    "content = infile.read()\n",
    "infile.close()\n",
    "hp = HeadingParser()\n",
    "hp.feed(content)\n",
    "W3C Mission\n",
    "Principles\n"
   ]
  },
  {
   "cell_type": "code",
   "execution_count": 200,
   "id": "42c076fc",
   "metadata": {},
   "outputs": [
    {
     "name": "stdout",
     "output_type": "stream",
     "text": [
      "  W3C Mission \n",
      "  \n",
      "\t \n",
      "   Principles \n"
     ]
    }
   ],
   "source": [
    "from html.parser import HTMLParser #HTMLParser imported using the html.Parser Library\n",
    "\n",
    "file = open('w3c.html','r')     \n",
    "par = str(file.read()) #reading the file\n",
    "\n",
    "class HeadingParser(HTMLParser): # creating HeadingParser class\n",
    "    def __init__(self):                    \n",
    "        HTMLParser.__init__(self)\n",
    "        self.flag = 0 \n",
    "    \n",
    "    def handle_starttag(self, tag, attrs):                     \n",
    "        \n",
    "        if tag == 'h1' or tag == 'h2' or tag == 'h3' or tag == 'h4' or tag=='h5' or tag == 'h6' or tag == 'h7':\n",
    "            self.flag += 1                                     \n",
    "        else:\n",
    "            self.flag = 0\n",
    "            \n",
    "    def handle_data(self, data):# creating a function handle_data()\n",
    "        if self.flag and data !='\\n':\n",
    "            print('{} {} '.format(self.flag*' ', data))\n",
    "\n",
    "\n",
    "parser = HeadingParser()#HeadingParser class called\n",
    "parser.feed(par)"
   ]
  },
  {
   "cell_type": "markdown",
   "id": "0f0a41f4",
   "metadata": {},
   "source": [
    "# QUESTION 7\n",
    "Implement recursive function webdir() that takes as input: a URL (as a string) and\n",
    "non-negative integers depth and indent. Your function should visit every web\n",
    "page reachable from the starting URL web page in depth clicks or less, and print\n",
    "each web page's URL. As shown below, indentation, specified by indent, should\n",
    "be used to indicate the depth of a URL.\n",
    "\n",
    "webdir('http://reed.cs.depaul.edu/lperkovic/csc242/test1.html'\n",
    ", 2, 0)\n",
    "http://reed.cs.depaul.edu/lperkovic/csc242/test1.html\n",
    " http://reed.cs.depaul.edu/lperkovic/csc242/test2.html\n",
    " http://reed.cs.depaul.edu/lperkovic/csc242/test4.html\n",
    " http://reed.cs.depaul.edu/lperkovic/csc242/test3.html\n",
    " http://reed.cs.depaul.edu/lperkovic/csc242/test4.html"
   ]
  },
  {
   "cell_type": "code",
   "execution_count": 201,
   "id": "232a55e1",
   "metadata": {},
   "outputs": [
    {
     "name": "stdout",
     "output_type": "stream",
     "text": [
      " http://reed.cs.depaul.edu/lperkovic/test1.html\n",
      "         http://reed.cs.depaul.edu/lperkovic/test2.html\n",
      "                 http://reed.cs.depaul.edu/lperkovic/test4.html\n",
      "         http://reed.cs.depaul.edu/lperkovic/test3.html\n",
      "                 http://reed.cs.depaul.edu/lperkovic/test4.html\n"
     ]
    }
   ],
   "source": [
    "from html.parser import HTMLParser    \n",
    "from urllib.request import urlopen\n",
    "from urllib.parse import urljoin\n",
    "\n",
    "class Web(HTMLParser):\n",
    "    \n",
    "\n",
    "    def __init__(self, url): # constructor iniialized\n",
    "      \n",
    "        HTMLParser.__init__(self)\n",
    "        self.url = url\n",
    "        self.links = []\n",
    "\n",
    "\n",
    "    def append(self): #appending fuction\n",
    "        \n",
    "        return self.links\n",
    "\n",
    "\n",
    "\n",
    "\n",
    "    def handle_starttag(self, tag, attributes): #function to collect the hyperlinks\n",
    "        for attr in attributes:\n",
    "            attrs = urljoin(self.url, attr[1])\n",
    "            if attrs[:4] == 'http': \n",
    "                self.links.append(attrs)\n",
    "i = 0\n",
    "def webdir(url, depth, i):\n",
    "   \n",
    "\n",
    "    depth = depth - 1    \n",
    "    print(i*'  ', url)         \n",
    "\n",
    "    objective = urlopen(url).read().decode()\n",
    "    collection = Web(url)\n",
    "    collection.feed(objective)\n",
    "    urls = collection.append() \n",
    " \n",
    "    links = urls\n",
    "    i = i + 4\n",
    "\n",
    "\n",
    "    for link in links:\n",
    "        if i < 0 or depth < 0:\n",
    "            return 1\n",
    "        else:\n",
    "            webdir(link, depth, i)\n",
    "\n",
    "\n",
    "\n",
    "webdir('http://reed.cs.depaul.edu/lperkovic/test1.html', 2, 0)"
   ]
  },
  {
   "cell_type": "markdown",
   "id": "448d02a1",
   "metadata": {},
   "source": [
    "# QUESTION 8\n",
    "\n",
    "Write SQL queries on the below database table that return:\n",
    "a) All the temperature data.\n",
    "b) All the cities, but without repetition.\n",
    "c) All the records for India.\n",
    "d) All the Fall records.\n",
    "e) The city, country, and season for which the average rainfall is between 200\n",
    "and 400 millimeters.\n",
    "f) The city and country for which the average Fall temperature is above 20\n",
    "degrees, in increasing temperature order.\n",
    "g) The total annual rainfall for Cairo.\n",
    "h) The total rainfall for each season.\n",
    "\n"
   ]
  },
  {
   "cell_type": "markdown",
   "id": "3e1a47da",
   "metadata": {},
   "source": [
    "CREATE TABLE info(City varchar(50), Country varchar(50), Season varchar(50), Temperature int, Rainfall int);"
   ]
  },
  {
   "cell_type": "markdown",
   "id": "5c3b3803",
   "metadata": {},
   "source": [
    "INSERT INTO info VALUES\n",
    "('Mumbai','India', 'Winter',24.8,5.9),\n",
    "('Mumbai','India', 'Spring',28.8,16.2),\n",
    "('Mumbai','India', 'Summer',27.9,1549.4),\n",
    "('Mumbai','India', 'Fall',27.6,346.0 ),\n",
    "('London','United Kingdom','Winter',4.2,207.7 ),\n",
    "('London','United Kingdom','Spring',8.3,169.6 ),\n",
    "('London','United Kingdom','Summer', 15.7,157.0),\n",
    "('London','United Kingdom','Fall', 10.4,218.5),\n",
    "('Cairo','Egypt','Winter', 13.6,16.5),\n",
    "('Cairo','Egypt','Spring', 20.7,6.5),\n",
    "('Cairo','Egypt','Summer',27.7,0.1),\n",
    "('Cairo','Egypt','Fall', 22.2,4.5);"
   ]
  },
  {
   "cell_type": "markdown",
   "id": "2dc96b98",
   "metadata": {},
   "source": [
    "<center><img title=\"a title\" alt=\"Alt text\" src=\"s1.png\"></center>\n"
   ]
  },
  {
   "cell_type": "markdown",
   "id": "a056dc1c",
   "metadata": {},
   "source": [
    "select * from info;"
   ]
  },
  {
   "cell_type": "markdown",
   "id": "a546dcaa",
   "metadata": {},
   "source": [
    "<center><img title=\"a title\" alt=\"Alt text\" src=\"s2.png\"></center>\n"
   ]
  },
  {
   "cell_type": "markdown",
   "id": "bf2f46d0",
   "metadata": {},
   "source": [
    "a) All the temperature data.\n"
   ]
  },
  {
   "cell_type": "markdown",
   "id": "3113899e",
   "metadata": {},
   "source": [
    "select TEMPERATURE from info;"
   ]
  },
  {
   "cell_type": "markdown",
   "id": "97252a56",
   "metadata": {},
   "source": [
    "<center><img title=\"a title\" alt=\"Alt text\" src=\"s3.png\"></center>\n"
   ]
  },
  {
   "cell_type": "markdown",
   "id": "d1eb7678",
   "metadata": {},
   "source": [
    "b) All the cities, but without repetition"
   ]
  },
  {
   "cell_type": "markdown",
   "id": "fcc6229f",
   "metadata": {},
   "source": [
    "SELECT DISTINCT City FROM info;"
   ]
  },
  {
   "cell_type": "markdown",
   "id": "41c440f3",
   "metadata": {},
   "source": [
    "<center><img title=\"a title\" alt=\"Alt text\" src=\"s4.jpg\"></center>\n"
   ]
  },
  {
   "cell_type": "markdown",
   "id": "a1f7174a",
   "metadata": {},
   "source": [
    "c) All the records for India.\n"
   ]
  },
  {
   "cell_type": "markdown",
   "id": "ddbdc54e",
   "metadata": {},
   "source": [
    "SELECT * FROM info WHERE Country = 'India';"
   ]
  },
  {
   "cell_type": "markdown",
   "id": "05d49202",
   "metadata": {},
   "source": [
    "<center><img title=\"a title\" alt=\"Alt text\" src=\"s5.jpg\"></center>\n"
   ]
  },
  {
   "cell_type": "markdown",
   "id": "2a946af7",
   "metadata": {},
   "source": [
    "d) All the Fall records."
   ]
  },
  {
   "cell_type": "markdown",
   "id": "ece4c976",
   "metadata": {},
   "source": [
    "SELECT * FROM info WHERE Season = 'Fall';"
   ]
  },
  {
   "cell_type": "markdown",
   "id": "d87a98ac",
   "metadata": {},
   "source": [
    "<center><img title=\"a title\" alt=\"Alt text\" src=\"s6.jpg\"></center>\n"
   ]
  },
  {
   "cell_type": "markdown",
   "id": "67179ed3",
   "metadata": {},
   "source": [
    "e) The city, country, and season for which the average rainfall is between 200\n",
    "and 400 millimeters.\n"
   ]
  },
  {
   "cell_type": "markdown",
   "id": "9445f9a6",
   "metadata": {},
   "source": [
    "SELECT City, Country, Season FROM info WHERE Rainfall BETWEEN 200 And 400;"
   ]
  },
  {
   "cell_type": "markdown",
   "id": "7882daa6",
   "metadata": {},
   "source": [
    "<center><img title=\"a title\" alt=\"Alt text\" src=\"s7.jpg\"></center>\n"
   ]
  },
  {
   "cell_type": "markdown",
   "id": "2e88502e",
   "metadata": {},
   "source": [
    "f) The city and country for which the average Fall temperature is above 20\n",
    "degrees, in increasing temperature order.\n"
   ]
  },
  {
   "cell_type": "markdown",
   "id": "14a82a61",
   "metadata": {},
   "source": [
    "SELECT City, Country FROM info WHERE Season = 'Fall' AND Temperature >20 ORDER BY Temperature;"
   ]
  },
  {
   "cell_type": "markdown",
   "id": "9ad5c6c2",
   "metadata": {},
   "source": [
    "<center><img title=\"a title\" alt=\"Alt text\" src=\"s8.jpg\"></center>\n"
   ]
  },
  {
   "cell_type": "markdown",
   "id": "273d7a15",
   "metadata": {},
   "source": [
    "g) The total annual rainfall for Cairo.\n"
   ]
  },
  {
   "cell_type": "markdown",
   "id": "07f9dd35",
   "metadata": {},
   "source": [
    "SELECT Sum(Rainfall) as Annual_Rainfall FROM info WHERE City='Cairo';"
   ]
  },
  {
   "cell_type": "markdown",
   "id": "c13b8812",
   "metadata": {},
   "source": [
    "<center><img title=\"a title\" alt=\"Alt text\" src=\"s9.jpg\"></center>\n"
   ]
  },
  {
   "cell_type": "markdown",
   "id": "4ba84d26",
   "metadata": {},
   "source": [
    "h) The total rainfall for each season\n"
   ]
  },
  {
   "cell_type": "markdown",
   "id": "65ecc29c",
   "metadata": {},
   "source": [
    "SELECT  Season, Sum(Rainfall) as Annual_Rainfall FROM info Group By Season;"
   ]
  },
  {
   "cell_type": "markdown",
   "id": "f565fc3e",
   "metadata": {},
   "source": [
    "<center><img title=\"a title\" alt=\"Alt text\" src=\"s10.jpg\"></center>\n"
   ]
  },
  {
   "cell_type": "markdown",
   "id": "4571b277",
   "metadata": {},
   "source": [
    "# QUESTION 9\n",
    "Suppose list words is defined as follows:\n",
    "words = ['The', 'quick', 'brown', 'fox', 'jumps', 'over','the', 'lazy', 'dog']\n",
    "Write list comprehension expressions that use list words and generate the following\n",
    "lists:\n",
    "a) ['THE', 'QUICK', 'BROWN', 'FOX', 'JUMPS', 'OVER', 'THE','LAZY', 'DOG']\n",
    "b) ['the', 'quick', 'brown', 'fox', 'jumps', 'over', 'the','lazy', 'dog']\n",
    "c) [3, 5, 5, 3, 5, 4, 3, 4, 3] (the list of lengths of words in list\n",
    "words).\n",
    "d) [['THE', 'the', 3], ['QUICK', 'quick', 5], ['BROWN','brown', 5], ['FOX', 'fox', 3], ['JUMPS', 'jumps', 5],['OVER', 'over', 4], ['THE', 'the', 3], ['LAZY', 'lazy',4], ['DOG', 'dog', 3]] (the list containing a list for every word of list\n",
    "words, where each list contains the word in uppercase and lowercase and the\n",
    "length of the word.)\n",
    "e) ['The', 'quick', 'brown', 'fox', 'jumps', 'over', 'the','lazy', 'dog'] (the list of words in list words containing 4 or more\n",
    "characters.)"
   ]
  },
  {
   "cell_type": "markdown",
   "id": "e9b63cd7",
   "metadata": {},
   "source": [
    "a) ['THE', 'QUICK', 'BROWN', 'FOX', 'JUMPS', 'OVER', 'THE','LAZY', 'DOG']"
   ]
  },
  {
   "cell_type": "code",
   "execution_count": 202,
   "id": "6524eb7e",
   "metadata": {},
   "outputs": [
    {
     "name": "stdout",
     "output_type": "stream",
     "text": [
      "Representation of the words in the List in Upper Case:\n",
      "['THE', 'QUICK', 'BROWN', 'FOX', 'JUMPS', 'OVER', 'THE', 'LAZY', 'DOG'] \n",
      "\n"
     ]
    }
   ],
   "source": [
    "List = ['The', 'quick', 'brown', 'fox', 'jumps', 'over','the', 'lazy', 'dog']\n",
    "\n",
    "print(\"Representation of the words in the List in Upper Case:\")\n",
    "print([w.upper() for w in List],\"\\n\")\n"
   ]
  },
  {
   "cell_type": "markdown",
   "id": "73242fb8",
   "metadata": {},
   "source": [
    "b) ['the', 'quick', 'brown', 'fox', 'jumps', 'over', 'the','lazy', 'dog']"
   ]
  },
  {
   "cell_type": "code",
   "execution_count": 203,
   "id": "58e738b5",
   "metadata": {},
   "outputs": [
    {
     "name": "stdout",
     "output_type": "stream",
     "text": [
      "Representation of the words in the List in Lower Case:\n",
      "['the', 'quick', 'brown', 'fox', 'jumps', 'over', 'the', 'lazy', 'dog'] \n",
      "\n"
     ]
    }
   ],
   "source": [
    "print(\"Representation of the words in the List in Lower Case:\")\n",
    "print([w.lower() for w in List],\"\\n\")\n"
   ]
  },
  {
   "cell_type": "markdown",
   "id": "b4739e3c",
   "metadata": {},
   "source": [
    "c) [3, 5, 5, 3, 5, 4, 3, 4, 3] (the list of lengths of words in list words)."
   ]
  },
  {
   "cell_type": "code",
   "execution_count": 204,
   "id": "c45d516a",
   "metadata": {},
   "outputs": [
    {
     "name": "stdout",
     "output_type": "stream",
     "text": [
      "Representation of the length of each word in the list: \n",
      "[3, 5, 5, 3, 5, 4, 3, 4, 3] \n",
      "\n"
     ]
    }
   ],
   "source": [
    "print(\"Representation of the length of each word in the list: \")\n",
    "print([len(w) for w in List],\"\\n\")"
   ]
  },
  {
   "cell_type": "markdown",
   "id": "e0ca04da",
   "metadata": {},
   "source": [
    "d) [['THE', 'the', 3], ['QUICK', 'quick', 5], ['BROWN','brown', 5], ['FOX', 'fox', 3], ['JUMPS', 'jumps', 5],['OVER', 'over', 4], ['THE', 'the', 3], ['LAZY', 'lazy',4], ['DOG', 'dog', 3]] (the list containing a list for every word of list words, where each list contains the word in uppercase and lowercase and the length of the word.)"
   ]
  },
  {
   "cell_type": "code",
   "execution_count": 205,
   "id": "da4f71dc",
   "metadata": {},
   "outputs": [
    {
     "name": "stdout",
     "output_type": "stream",
     "text": [
      "Representation ofthe list containing a list for every word of list words, where each list contains the word in uppercase and lowercase and the length of the word:\n",
      " \n",
      "[['THE', 'the', 3], ['QUICK', 'quick', 5], ['BROWN', 'brown', 5], ['FOX', 'fox', 3], ['JUMPS', 'jumps', 5], ['OVER', 'over', 4], ['THE', 'the', 3], ['LAZY', 'lazy', 4], ['DOG', 'dog', 3]] \n",
      "\n"
     ]
    }
   ],
   "source": [
    "print(\"Representation ofthe list containing a list for every word of list words, where each list contains the word in uppercase and lowercase and the length of the word:\\n \")\n",
    "print([[w.upper(), w.lower(), len(w)] for w in List],\"\\n\")"
   ]
  },
  {
   "cell_type": "markdown",
   "id": "5d5c4513",
   "metadata": {},
   "source": [
    "e) ['The', 'quick', 'brown', 'fox', 'jumps', 'over', 'the','lazy', 'dog'] (the list of words in list words containing 4 or more\n",
    "characters.)"
   ]
  },
  {
   "cell_type": "code",
   "execution_count": 206,
   "id": "f0e1cce8",
   "metadata": {},
   "outputs": [
    {
     "name": "stdout",
     "output_type": "stream",
     "text": [
      "The list of words in list words containing 4 or more characters : \n",
      "['quick', 'brown', 'jumps', 'over', 'lazy']\n"
     ]
    }
   ],
   "source": [
    "print(\"The list of words in list words containing 4 or more characters : \")\n",
    "print([w for w in List if len(w)>=4])"
   ]
  }
 ],
 "metadata": {
  "kernelspec": {
   "display_name": "Python 3",
   "language": "python",
   "name": "python3"
  },
  "language_info": {
   "codemirror_mode": {
    "name": "ipython",
    "version": 3
   },
   "file_extension": ".py",
   "mimetype": "text/x-python",
   "name": "python",
   "nbconvert_exporter": "python",
   "pygments_lexer": "ipython3",
   "version": "3.8.8"
  }
 },
 "nbformat": 4,
 "nbformat_minor": 5
}
